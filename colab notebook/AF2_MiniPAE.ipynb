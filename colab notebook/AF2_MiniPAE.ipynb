{
  "nbformat": 4,
  "nbformat_minor": 0,
  "metadata": {
    "colab": {
      "provenance": []
    },
    "kernelspec": {
      "name": "python3",
      "display_name": "Python 3"
    },
    "language_info": {
      "name": "python"
    }
  },
  "cells": [
    {
      "cell_type": "markdown",
      "source": [
        "# AF2_MiniPAE\n",
        "\n",
        "AF2_MiniPAE is a lightweight tool for analyzing multiple AlphaFold2 multimer predictions (from **ColabFold**) to identify high-confidence motif-like regions between an **intrinsically disordered protein (chain B)** and a **receptor (chain A)**. It computes the minimal **Predicted Aligned Error (PAE)** between chains and highlights the most confident interaction region.\n",
        "\n",
        "> Author: Martin Veinstein\n",
        "\n",
        "You can generate your AlphaFold2 predictions using ColabFold: https://colab.research.google.com/github/sokrypton/ColabFold/blob/main/AlphaFold2.ipynb\n",
        "\n",
        "Or the batch version for multiple predictions: https://colab.research.google.com/github/sokrypton/ColabFold/blob/main/batch/AlphaFold2_batch.ipynb#scrollTo=kOblAo-xetgx\n",
        "\n",
        "## 🔍 **What AF2_MiniPAE does**\n",
        "\n",
        "Given AlphaFold2 prediction outputs (`.result.zip` archives from ColabFold), this tool:\n",
        "\n",
        "- Parses the `.a3m` alignment file to determine sequence lengths and structure type (monomer, homodimer, or heterodimer)\n",
        "- Loads the PAE matrix from `rank_001_scores.json`\n",
        "- Extracts the **minimal PAE region** between IDP and receptor chains\n",
        "- Highlights residues with PAE below a confidence threshold (default: 4)\n",
        "- Outputs:\n",
        "  - Formatted sequence (uppercase = high-confidence contact)\n",
        "  - Motif region (first-to-last confident contact)\n",
        "  - PAE metrics and region indices\n",
        "\n",
        "## ⚠️ **Requirements & Notes**\n",
        "\n",
        "This script only works for `DIMERIC predictions`.\n",
        "\n",
        "The SLiM-containing protein `MUST be the second chain` in your AlphaFold prediction (i.e., `chain B`).\n",
        "\n",
        "This script **reads .result.zip archives**. We therfor strongly recommend to tick the \"zip_results\" if you are running colabfold batch.\n",
        "\n",
        "This script expects:\n",
        "\n",
        ">a .a3m alignment file\n",
        "\n",
        ">a rank_001_scores.json file\n",
        "Both files should be zipped together in a .result.zip archive, stored in your Google Drive.\n",
        "\n",
        "\n",
        "**References**\n",
        "\n",
        "This script is adapted from the work of:\n",
        "\n",
        "Omidi et al.\n",
        "\n",
        "A. Omidi, M.H. Møller, N. Malhis, J.M. Bui, & J. Gsponer,\n",
        "AlphaFold-Multimer accurately captures interactions and dynamics of intrinsically disordered protein regions,\n",
        "Proc. Natl. Acad. Sci. U.S.A. 121 (44) e2406407121,\n",
        "https://doi.org/10.1073/pnas.2406407121 (2024)\n",
        "\n",
        "The method and code were used and described in our own study:\n",
        "\n",
        "[Full citation coming soon]"
      ],
      "metadata": {
        "id": "d3SGmrRq4XuC"
      }
    },
    {
      "cell_type": "markdown",
      "source": [
        "# **Run MiniPAE**\n",
        "\n",
        "Users can run all cells from the above menu:\n",
        "\n",
        "Runtime > Run all"
      ],
      "metadata": {
        "id": "ItLDSqBi5XzW"
      }
    },
    {
      "cell_type": "markdown",
      "source": [
        "📘 Step 1: Mount your Google Drive"
      ],
      "metadata": {
        "id": "CSlqetCuB9kl"
      }
    },
    {
      "cell_type": "code",
      "source": [
        "# @title\n",
        "from google.colab import drive\n",
        "drive.mount('/content/drive')\n"
      ],
      "metadata": {
        "id": "YmEutY_ACCUt",
        "cellView": "form",
        "colab": {
          "base_uri": "https://localhost:8080/"
        },
        "outputId": "d47f6f4d-add5-47e5-8170-c4b887fc856b"
      },
      "execution_count": 1,
      "outputs": [
        {
          "output_type": "stream",
          "name": "stdout",
          "text": [
            "Mounted at /content/drive\n"
          ]
        }
      ]
    },
    {
      "cell_type": "markdown",
      "source": [
        "📌 Select input folder location in your drive\n",
        "\n",
        "Example: Your /input_alphafold/ folder should contain .result.zip files like:\n",
        "myprotein.result.zip\n",
        "Each zip must include:\n",
        "\n",
        ">myprotein**.a3m**\n",
        "\n",
        ">myprotein_scores_rank_001**.json**\n",
        "\n",
        "Your **.result.zip** archive must be stored in a folder in your Drive, like:"
      ],
      "metadata": {
        "id": "mB1td340CEGF"
      }
    },
    {
      "cell_type": "code",
      "source": [
        "# 📁 User input parameters\n",
        "dir = '/content/drive/MyDrive/input_alphafold'  #@param {type:\"string\"}\n",
        "\n"
      ],
      "metadata": {
        "id": "84WE_v4tDjZU",
        "cellView": "form"
      },
      "execution_count": 2,
      "outputs": []
    },
    {
      "cell_type": "markdown",
      "source": [
        "Define PAE threshold for high-score motifs (default = 4)"
      ],
      "metadata": {
        "id": "_y5lwAev4Pj_"
      }
    },
    {
      "cell_type": "code",
      "source": [
        "pae_threshold = 4  #@param {type:\"number\"}"
      ],
      "metadata": {
        "cellView": "form",
        "id": "GWCVZ_4C4WZv"
      },
      "execution_count": 3,
      "outputs": []
    },
    {
      "cell_type": "markdown",
      "source": [
        "📘 Step 2: Install required libraries (if needed)"
      ],
      "metadata": {
        "id": "24R6ACteCIbt"
      }
    },
    {
      "cell_type": "code",
      "source": [
        "# @title\n",
        "!pip install numpy\n"
      ],
      "metadata": {
        "id": "_EicONDTCJot",
        "cellView": "form"
      },
      "execution_count": null,
      "outputs": []
    },
    {
      "cell_type": "markdown",
      "source": [
        "📘 Step 3: Import Python libraries"
      ],
      "metadata": {
        "id": "jMbv65gGCS41"
      }
    },
    {
      "cell_type": "code",
      "source": [
        "# @title\n",
        "# 🔧 Required imports\n",
        "import numpy as np\n",
        "import json\n",
        "import os\n",
        "import re\n",
        "import zipfile\n",
        "import pandas as pd\n",
        "\n"
      ],
      "metadata": {
        "id": "fjO0mc-MCWpN",
        "cellView": "form"
      },
      "execution_count": 5,
      "outputs": []
    },
    {
      "cell_type": "markdown",
      "source": [
        "📘 Step 4: Define functions to process your files"
      ],
      "metadata": {
        "id": "MyIZSZT2CYYN"
      }
    },
    {
      "cell_type": "code",
      "source": [
        "# @title\n",
        "def parse_a3m_header(a3mhead):\n",
        "    lengths_str, cardinalities = a3mhead.strip().lstrip(\"#\").split()\n",
        "    lengths = list(map(int, lengths_str.split(\",\")))\n",
        "    return lengths, cardinalities\n",
        "\n",
        "def read_scores(zip_file, score_filename, a3m_filename, threshold):\n",
        "    with zip_file.open(score_filename) as f:\n",
        "        scores = json.load(f)\n",
        "\n",
        "    with zip_file.open(a3m_filename) as f:\n",
        "        lines = f.read().decode(\"utf-8\").splitlines()\n",
        "        a3mhead = lines[0].strip()\n",
        "        lengths, card = parse_a3m_header(a3mhead)\n",
        "\n",
        "        # Convert cardinality string to list of integers (if needed)\n",
        "        card_list = list(map(int, card.split(\",\")))\n",
        "\n",
        "        # Error handling for non-dimeric cases\n",
        "        if len(lengths) == 2 and card == \"1,1\":\n",
        "            idp_len, receptor_len = lengths\n",
        "            marker = \">102\"  # Heterodimer\n",
        "        elif len(lengths) == 1 and card == \"2\":\n",
        "            idp_len = receptor_len = lengths[0]\n",
        "            marker = \">101\"  # Homodimer\n",
        "        elif len(lengths) == 1 and card == \"1\":\n",
        "            raise ValueError(\"Monomeric structure detected — only dimeric models (homodimer or heterodimer) are supported.\")\n",
        "        else:\n",
        "            raise ValueError(f\"Unsupported structure configuration: lengths={lengths}, cardinalities={card}. Only dimers are supported.\")\n",
        "\n",
        "        # Extract sequence from correct marker\n",
        "        protein_sequence = None\n",
        "        for i, line in enumerate(lines):\n",
        "            if line.strip() == marker:\n",
        "                if i + 1 < len(lines):\n",
        "                    protein_sequence = lines[i + 1].strip().replace(\"-\", \"\")\n",
        "                break\n",
        "\n",
        "    pae = np.array(scores[\"pae\"])\n",
        "    assert pae.shape == (idp_len + receptor_len, idp_len + receptor_len), f\"PAE shape mismatch: {pae.shape}\"\n",
        "\n",
        "    pae_idp_receptor_min = pae[:idp_len, idp_len:].min(axis=0).tolist()\n",
        "\n",
        "    if protein_sequence and len(protein_sequence) == len(pae_idp_receptor_min):\n",
        "        formatted_sequence = \"\".join(\n",
        "            res.upper() if pae_val < threshold else res.lower()\n",
        "            for res, pae_val in zip(protein_sequence, pae_idp_receptor_min)\n",
        "        )\n",
        "    else:\n",
        "        formatted_sequence = \"N/A\"\n",
        "\n",
        "    match = re.search(r\"[A-Z].*[A-Z]\", formatted_sequence)\n",
        "    motif_sequence = match.group(0) if match else \"N/A\"\n",
        "    motif_start = match.start() + 1 if match else \"N/A\"\n",
        "    motif_stop = match.end() if match else \"N/A\"\n",
        "\n",
        "    return {\n",
        "        \"pae_idp_receptor_min\": pae_idp_receptor_min,\n",
        "        \"formatted_sequence\": formatted_sequence,\n",
        "        \"motif_sequence\": motif_sequence,\n",
        "        \"motif_start\": motif_start,\n",
        "        \"motif_stop\": motif_stop\n",
        "    }\n"
      ],
      "metadata": {
        "id": "DJOIO8H4CaLV",
        "cellView": "form"
      },
      "execution_count": 6,
      "outputs": []
    },
    {
      "cell_type": "markdown",
      "source": [
        "📘 Step 5: Set your folder and run the analysis"
      ],
      "metadata": {
        "id": "WAxnZZOYCchl"
      }
    },
    {
      "cell_type": "code",
      "source": [
        "# @title\n",
        "output_file = f\"/content/metrics_miniPAE-thresh{pae_threshold}.csv\"\n",
        "results_summary = []\n",
        "\n",
        "def read_scores_from_zip(zip_path, threshold):\n",
        "    with zipfile.ZipFile(zip_path, 'r') as zip_ref:\n",
        "        # Find relevant JSON and A3M files inside the archive\n",
        "        json_candidates = [f for f in zip_ref.namelist() if f.endswith(\".json\") and \"rank_001\" in f and \"scores\" in f]\n",
        "\n",
        "        basename = os.path.basename(zip_path).replace(\".result.zip\", \"\")\n",
        "        expected_a3m_name = f\"{basename}.a3m\"\n",
        "        a3m_candidates = [f for f in zip_ref.namelist() if f.endswith(expected_a3m_name)]\n",
        "\n",
        "        # Safety checks\n",
        "        if not json_candidates:\n",
        "            raise FileNotFoundError(\"No score JSON file found inside the archive.\")\n",
        "        if not a3m_candidates:\n",
        "            raise FileNotFoundError(\"No A3M file found inside the archive.\")\n",
        "\n",
        "        json_name = json_candidates[0]\n",
        "        a3m_name = a3m_candidates[0]\n",
        "\n",
        "        return read_scores(zip_ref, json_name, a3m_name, threshold)\n",
        "\n",
        "with open(output_file, \"w\") as csvfile:\n",
        "    csvfile.write(\"experiment_name,min_pae_val,pae_idp_receptor_min,formatted_sequence,motif_sequence,motif_start,motif_stop\\n\")\n",
        "\n",
        "    for fname in os.listdir(dir):\n",
        "        if fname.endswith(\".result.zip\"):\n",
        "            exp = fname.replace(\".result.zip\", \"\")\n",
        "            zip_path = os.path.join(dir, fname)\n",
        "\n",
        "            try:\n",
        "                result = read_scores_from_zip(zip_path, pae_threshold)\n",
        "                pae_vals = result[\"pae_idp_receptor_min\"]\n",
        "                min_val = min(pae_vals) if pae_vals else \"N/A\"\n",
        "                pae_str = \";\".join(map(str, pae_vals))\n",
        "\n",
        "                csvfile.write(f\"{exp},{min_val},{pae_str},{result['formatted_sequence']},{result['motif_sequence']},{result['motif_start']},{result['motif_stop']}\\n\")\n",
        "\n",
        "                results_summary.append({\n",
        "                    \"experiment\": exp,\n",
        "                    \"min_pae_val\": min_val,\n",
        "                    \"motif_sequence\": result[\"motif_sequence\"]\n",
        "                })\n",
        "\n",
        "            except FileNotFoundError as fnf_err:\n",
        "                print(f\"⚠️ Skipping {fname}: {fnf_err}\")\n",
        "            except zipfile.BadZipFile:\n",
        "                print(f\"❌ ERROR: {fname} is not a valid .zip file. Skipping.\")\n",
        "            except Exception as e:\n",
        "                print(f\"❌ ERROR while processing {fname}: {e}\")\n",
        "\n",
        "print(f\"✅ Done! Results saved to: {output_file}\")\n",
        "pd.DataFrame(results_summary)\n"
      ],
      "metadata": {
        "id": "zVHgjzFpCdN9",
        "cellView": "form"
      },
      "execution_count": null,
      "outputs": []
    },
    {
      "cell_type": "markdown",
      "source": [
        "📘 Step 6: Download results"
      ],
      "metadata": {
        "id": "AqH3ciN20lB7"
      }
    },
    {
      "cell_type": "code",
      "source": [
        "# @title\n",
        "from google.colab import files\n",
        "files.download(output_file)\n"
      ],
      "metadata": {
        "colab": {
          "base_uri": "https://localhost:8080/",
          "height": 17
        },
        "cellView": "form",
        "id": "Pf67pN7n0mju",
        "outputId": "04a78cb8-dc1b-4488-f094-ec9365645dea"
      },
      "execution_count": 8,
      "outputs": [
        {
          "output_type": "display_data",
          "data": {
            "text/plain": [
              "<IPython.core.display.Javascript object>"
            ],
            "application/javascript": [
              "\n",
              "    async function download(id, filename, size) {\n",
              "      if (!google.colab.kernel.accessAllowed) {\n",
              "        return;\n",
              "      }\n",
              "      const div = document.createElement('div');\n",
              "      const label = document.createElement('label');\n",
              "      label.textContent = `Downloading \"${filename}\": `;\n",
              "      div.appendChild(label);\n",
              "      const progress = document.createElement('progress');\n",
              "      progress.max = size;\n",
              "      div.appendChild(progress);\n",
              "      document.body.appendChild(div);\n",
              "\n",
              "      const buffers = [];\n",
              "      let downloaded = 0;\n",
              "\n",
              "      const channel = await google.colab.kernel.comms.open(id);\n",
              "      // Send a message to notify the kernel that we're ready.\n",
              "      channel.send({})\n",
              "\n",
              "      for await (const message of channel.messages) {\n",
              "        // Send a message to notify the kernel that we're ready.\n",
              "        channel.send({})\n",
              "        if (message.buffers) {\n",
              "          for (const buffer of message.buffers) {\n",
              "            buffers.push(buffer);\n",
              "            downloaded += buffer.byteLength;\n",
              "            progress.value = downloaded;\n",
              "          }\n",
              "        }\n",
              "      }\n",
              "      const blob = new Blob(buffers, {type: 'application/binary'});\n",
              "      const a = document.createElement('a');\n",
              "      a.href = window.URL.createObjectURL(blob);\n",
              "      a.download = filename;\n",
              "      div.appendChild(a);\n",
              "      a.click();\n",
              "      div.remove();\n",
              "    }\n",
              "  "
            ]
          },
          "metadata": {}
        },
        {
          "output_type": "display_data",
          "data": {
            "text/plain": [
              "<IPython.core.display.Javascript object>"
            ],
            "application/javascript": [
              "download(\"download_37bcee86-78dd-4a24-ba7e-6ebf724e792d\", \"metrics_miniPAE-thresh4.csv\", 6377)"
            ]
          },
          "metadata": {}
        }
      ]
    },
    {
      "cell_type": "markdown",
      "source": [
        "## **Results**\n",
        "Results will be printed at the end of this colab notebook and downloaded as a .csv file\n",
        "\n",
        "This CSV includes:\n",
        "\n",
        "- experiment_name = the name of the prediction\n",
        "\n",
        "- miniPAE = the lowest PAE value with the disordered prediction (chain B)\n",
        "\n",
        "- pae_list = all PAE values with the disordered prediction (chain B)\n",
        "\n",
        "- formatted_sequence = sequence of the disordered protein (chain B) with UPPER case for PAE<threshold\n",
        "\n",
        "- motif_sequence\t= sequence of the disordered protein (chain B) region above threshold\n",
        "\n",
        "- motif_start & motif_stop = start & stop positions of the region above threshold"
      ],
      "metadata": {
        "id": "tVrhel5z8lXo"
      }
    }
  ]
}